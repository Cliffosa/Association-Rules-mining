{
 "cells": [
  {
   "cell_type": "code",
   "execution_count": 1,
   "id": "02b46bb6",
   "metadata": {
    "scrolled": true
   },
   "outputs": [],
   "source": [
    "import numpy as np\n",
    "import pandas as pd\n",
    "from mlxtend.frequent_patterns import apriori, association_rules\n",
    "import matplotlib.pyplot as plt"
   ]
  },
  {
   "cell_type": "code",
   "execution_count": null,
   "id": "6d36c22d",
   "metadata": {},
   "outputs": [],
   "source": [
    "online_df = pd.read_excel(\"data/Online Retail.xlsx\")"
   ]
  },
  {
   "cell_type": "code",
   "execution_count": null,
   "id": "d19238a6",
   "metadata": {},
   "outputs": [],
   "source": [
    "online_df.info()"
   ]
  },
  {
   "cell_type": "code",
   "execution_count": null,
   "id": "26654d42",
   "metadata": {},
   "outputs": [],
   "source": [
    "online_df.head()"
   ]
  },
  {
   "cell_type": "code",
   "execution_count": null,
   "id": "57ad829d",
   "metadata": {},
   "outputs": [],
   "source": [
    "online_df[\"Country\"]"
   ]
  },
  {
   "cell_type": "code",
   "execution_count": null,
   "id": "19ce1277",
   "metadata": {},
   "outputs": [],
   "source": [
    "online_df[\"Country\"].value_counts()"
   ]
  },
  {
   "cell_type": "code",
   "execution_count": null,
   "id": "aee510ea",
   "metadata": {},
   "outputs": [],
   "source": [
    "online_df[online_df[\"Country\"] == \"Spain\"] # Choose a particular country of interest"
   ]
  },
  {
   "cell_type": "code",
   "execution_count": null,
   "id": "23ae55f5",
   "metadata": {},
   "outputs": [],
   "source": [
    "spain_Rt_df = online_df[online_df[\"Country\"] == \"Spain\"]\n"
   ]
  },
  {
   "cell_type": "code",
   "execution_count": null,
   "id": "7ea0d8a9",
   "metadata": {},
   "outputs": [],
   "source": [
    "spain_Rt_df = spain_Rt_df.reset_index(drop=True)"
   ]
  },
  {
   "cell_type": "code",
   "execution_count": null,
   "id": "8c8d3a8e",
   "metadata": {
    "scrolled": false
   },
   "outputs": [],
   "source": [
    "spain_Rt_df"
   ]
  },
  {
   "cell_type": "code",
   "execution_count": null,
   "id": "548126e8",
   "metadata": {},
   "outputs": [],
   "source": [
    "spain_Rt_df.isnull().sum()"
   ]
  },
  {
   "cell_type": "code",
   "execution_count": null,
   "id": "62f01470",
   "metadata": {},
   "outputs": [],
   "source": [
    "spain_Rt_df[\"InvoiceNo\"].astype(\"str\") # convert invoice num to string to remove the C-cancellation"
   ]
  },
  {
   "cell_type": "code",
   "execution_count": null,
   "id": "5a617366",
   "metadata": {},
   "outputs": [],
   "source": [
    "spain_Rt_df[\"InvoiceNo\"] = spain_Rt_df[\"InvoiceNo\"].astype(\"str\")# reassigned it to the inovoice"
   ]
  },
  {
   "cell_type": "code",
   "execution_count": null,
   "id": "88618c4d",
   "metadata": {},
   "outputs": [],
   "source": [
    "spain_Rt_df = spain_Rt_df[~spain_Rt_df[\"InvoiceNo\"].str.contains(\"C\")].reset_index(drop=True)"
   ]
  },
  {
   "cell_type": "code",
   "execution_count": null,
   "id": "9207f23f",
   "metadata": {},
   "outputs": [],
   "source": [
    "#spain_Rt_df = spain_Rt_df.dropna(subset=[\"Description\"]).reset_index(drop=True)"
   ]
  },
  {
   "cell_type": "code",
   "execution_count": null,
   "id": "ed302021",
   "metadata": {},
   "outputs": [],
   "source": [
    "spain_Rt_df[\"Description\"] = spain_Rt_df[\"Description\"].str.strip()"
   ]
  },
  {
   "cell_type": "code",
   "execution_count": null,
   "id": "dd52653e",
   "metadata": {},
   "outputs": [],
   "source": []
  },
  {
   "cell_type": "code",
   "execution_count": null,
   "id": "295c6635",
   "metadata": {},
   "outputs": [],
   "source": [
    "spain_Rt_df"
   ]
  },
  {
   "cell_type": "code",
   "execution_count": null,
   "id": "4a8f9762",
   "metadata": {
    "scrolled": true
   },
   "outputs": [],
   "source": [
    "spain_Rt_df.groupby([\"InvoiceNo\", \"Description\"])[\"Quantity\"].sum()"
   ]
  },
  {
   "cell_type": "code",
   "execution_count": null,
   "id": "33d49784",
   "metadata": {},
   "outputs": [],
   "source": [
    "#final_trans = utils.data_prepare(final_trans)"
   ]
  },
  {
   "cell_type": "code",
   "execution_count": null,
   "id": "9b33d7a2",
   "metadata": {},
   "outputs": [],
   "source": [
    "final_trans = spain_Rt_df.groupby([\"InvoiceNo\", \"Description\"])[\"Quantity\"].sum().unstack().fillna(0)"
   ]
  },
  {
   "cell_type": "code",
   "execution_count": null,
   "id": "f565f7eb",
   "metadata": {
    "scrolled": false
   },
   "outputs": [],
   "source": [
    "final_trans"
   ]
  },
  {
   "cell_type": "code",
   "execution_count": null,
   "id": "215d7c5c",
   "metadata": {
    "scrolled": true
   },
   "outputs": [],
   "source": [
    "final_trans.sum()"
   ]
  },
  {
   "cell_type": "code",
   "execution_count": null,
   "id": "f45dede0",
   "metadata": {},
   "outputs": [],
   "source": [
    "\n",
    "final_trans.sum().sort_values(ascending=False)"
   ]
  },
  {
   "cell_type": "code",
   "execution_count": null,
   "id": "dbf1d11d",
   "metadata": {},
   "outputs": [],
   "source": [
    "final_trans.sum().sort_values(ascending=False).head(10).plot(kind=\"barh\")\n",
    "plt.title(\"Top 10 Items Bought\")\n",
    "plt.show()"
   ]
  },
  {
   "cell_type": "code",
   "execution_count": null,
   "id": "91a76060",
   "metadata": {},
   "outputs": [],
   "source": [
    "# The algorithm understand 0 and 1 to let convert the items quantities \n",
    "# One hot Encoding\n",
    "def convert_to_bin(obs):\n",
    "    if obs > 1:\n",
    "        return 1\n",
    "    else:\n",
    "        return 0"
   ]
  },
  {
   "cell_type": "code",
   "execution_count": null,
   "id": "c2268509",
   "metadata": {},
   "outputs": [],
   "source": [
    "final_transaction = final_trans.applymap(convert_to_bin)"
   ]
  },
  {
   "cell_type": "code",
   "execution_count": null,
   "id": "908d063d",
   "metadata": {},
   "outputs": [],
   "source": [
    "final_transaction"
   ]
  },
  {
   "cell_type": "code",
   "execution_count": null,
   "id": "d4e1d886",
   "metadata": {},
   "outputs": [],
   "source": [
    "final_transaction.drop(\"POSTAGE\", inplace=True, axis=1)"
   ]
  },
  {
   "cell_type": "code",
   "execution_count": null,
   "id": "a7e3e19e",
   "metadata": {},
   "outputs": [],
   "source": [
    "final_transaction.sum().sort_values(ascending=False).head(10).plot(kind=\"barh\")\n",
    "plt.title(\"Top 10 Most Frequently bought \")\n",
    "plt.show()"
   ]
  },
  {
   "cell_type": "code",
   "execution_count": null,
   "id": "dc38366f",
   "metadata": {},
   "outputs": [],
   "source": []
  },
  {
   "cell_type": "code",
   "execution_count": null,
   "id": "1fbde7b9",
   "metadata": {
    "scrolled": true
   },
   "outputs": [],
   "source": [
    "apriori_analysis = apriori(final_transaction, min_support=0.05, use_colnames=True)"
   ]
  },
  {
   "cell_type": "code",
   "execution_count": null,
   "id": "41298c7e",
   "metadata": {
    "scrolled": false
   },
   "outputs": [],
   "source": [
    "apriori_analysis"
   ]
  },
  {
   "cell_type": "code",
   "execution_count": null,
   "id": "5d569da4",
   "metadata": {},
   "outputs": [],
   "source": [
    "rules = association_rules(apriori_analysis, metric=\"lift\", min_threshold=1)"
   ]
  },
  {
   "cell_type": "code",
   "execution_count": null,
   "id": "af33ab31",
   "metadata": {
    "scrolled": false
   },
   "outputs": [],
   "source": [
    "rules.sort_values([\"confidence\", \"lift\"], ascending=[False, False]).reset_index(drop=True).head(10)"
   ]
  },
  {
   "cell_type": "code",
   "execution_count": null,
   "id": "4172a6a5",
   "metadata": {},
   "outputs": [],
   "source": [
    "# antecedents = LHS \n",
    "# consequents = RHS"
   ]
  },
  {
   "cell_type": "code",
   "execution_count": null,
   "id": "c367ee6b",
   "metadata": {},
   "outputs": [],
   "source": [
    "rules_df = pd.DataFrame(rules,columns=[\"antecedents\", \"consequents\", \"support\", \"confidence\", \"lift\"])"
   ]
  },
  {
   "cell_type": "code",
   "execution_count": null,
   "id": "6201e8a6",
   "metadata": {},
   "outputs": [],
   "source": [
    "rules_df.head(10)"
   ]
  },
  {
   "cell_type": "code",
   "execution_count": null,
   "id": "1c36b38c",
   "metadata": {
    "scrolled": false
   },
   "outputs": [],
   "source": [
    "rules_df.nlargest(10, \"support\").reset_index(drop=True)"
   ]
  },
  {
   "cell_type": "code",
   "execution_count": null,
   "id": "7681f111",
   "metadata": {},
   "outputs": [],
   "source": [
    "rules_df.nlargest(10, \"support\").plot(kind = \"bar\")\n",
    "plt.show()"
   ]
  },
  {
   "cell_type": "code",
   "execution_count": null,
   "id": "8b294154",
   "metadata": {
    "scrolled": true
   },
   "outputs": [],
   "source": [
    "rules_df.nlargest(10, \"confidence\").reset_index(drop=True)"
   ]
  },
  {
   "cell_type": "code",
   "execution_count": null,
   "id": "1d860e8d",
   "metadata": {},
   "outputs": [],
   "source": [
    "rules_df.nlargest(10, \"confidence\").plot(kind = \"bar\")\n",
    "plt.show()"
   ]
  },
  {
   "cell_type": "code",
   "execution_count": null,
   "id": "caa4b054",
   "metadata": {},
   "outputs": [],
   "source": [
    "rules_df.nlargest(10, \"lift\").reset_index(drop=True)"
   ]
  },
  {
   "cell_type": "code",
   "execution_count": null,
   "id": "56cf7ac8",
   "metadata": {},
   "outputs": [],
   "source": [
    "rules_df.nlargest(10, \"lift\").plot(kind = \"bar\")\n",
    "plt.show()"
   ]
  },
  {
   "cell_type": "code",
   "execution_count": null,
   "id": "d9f16617",
   "metadata": {},
   "outputs": [],
   "source": []
  }
 ],
 "metadata": {
  "kernelspec": {
   "display_name": "Python 3 (ipykernel)",
   "language": "python",
   "name": "python3"
  },
  "language_info": {
   "codemirror_mode": {
    "name": "ipython",
    "version": 3
   },
   "file_extension": ".py",
   "mimetype": "text/x-python",
   "name": "python",
   "nbconvert_exporter": "python",
   "pygments_lexer": "ipython3",
   "version": "3.9.7"
  }
 },
 "nbformat": 4,
 "nbformat_minor": 5
}
